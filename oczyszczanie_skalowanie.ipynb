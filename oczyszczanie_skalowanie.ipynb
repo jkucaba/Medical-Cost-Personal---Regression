{
 "cells": [
  {
   "metadata": {},
   "cell_type": "markdown",
   "source": "### Konwersja",
   "id": "119d77fe2d93476e"
  },
  {
   "metadata": {
    "ExecuteTime": {
     "end_time": "2025-10-26T10:43:39.836768Z",
     "start_time": "2025-10-26T10:43:38.552216Z"
    }
   },
   "cell_type": "code",
   "source": [
    "import pandas as pd\n",
    "import os\n",
    "\n",
    "input_folder = \"data\"\n",
    "output_folder = \"data_converted\"\n",
    "\n",
    "os.makedirs(output_folder, exist_ok=True)\n",
    "\n",
    "for file in os.listdir(input_folder):\n",
    "    if file.endswith(\".csv\"):\n",
    "        input_path = os.path.join(input_folder, file)\n",
    "        output_path = os.path.join(output_folder, file.replace(\".csv\", \"_converted.csv\"))\n",
    "\n",
    "        data = pd.read_csv(input_path)\n",
    "\n",
    "        data['sex'] = data['sex'].map({'female': 0, 'male': 1})\n",
    "        data['smoker'] = data['smoker'].map({'no': 0, 'yes': 1})\n",
    "        data = pd.get_dummies(data, columns=['region'], drop_first=True)\n",
    "\n",
    "        data.to_csv(output_path, index=False)\n",
    "        print(f\"Zapisano: {output_path}\")\n",
    "\n",
    "print(\"Wszystkie pliki zostały przekonwertowane\")\n"
   ],
   "id": "1daaa8731d51e449",
   "outputs": [
    {
     "name": "stdout",
     "output_type": "stream",
     "text": [
      "Zapisano: data_converted\\insurance_cleaned_knn_converted.csv\n",
      "Zapisano: data_converted\\insurance_cleaned_mean_median_converted.csv\n",
      "Zapisano: data_converted\\insurance_cleaned_regression_converted.csv\n",
      "Zapisano: data_converted\\insurance_cleaned_sklearn_impute_converted.csv\n"
     ]
    },
    {
     "ename": "KeyError",
     "evalue": "\"None of [Index(['region'], dtype='object')] are in the [columns]\"",
     "output_type": "error",
     "traceback": [
      "\u001B[31m---------------------------------------------------------------------------\u001B[39m",
      "\u001B[31mKeyError\u001B[39m                                  Traceback (most recent call last)",
      "\u001B[36mCell\u001B[39m\u001B[36m \u001B[39m\u001B[32mIn[1]\u001B[39m\u001B[32m, line 18\u001B[39m\n\u001B[32m     16\u001B[39m data[\u001B[33m'\u001B[39m\u001B[33msex\u001B[39m\u001B[33m'\u001B[39m] = data[\u001B[33m'\u001B[39m\u001B[33msex\u001B[39m\u001B[33m'\u001B[39m].map({\u001B[33m'\u001B[39m\u001B[33mfemale\u001B[39m\u001B[33m'\u001B[39m: \u001B[32m0\u001B[39m, \u001B[33m'\u001B[39m\u001B[33mmale\u001B[39m\u001B[33m'\u001B[39m: \u001B[32m1\u001B[39m})\n\u001B[32m     17\u001B[39m data[\u001B[33m'\u001B[39m\u001B[33msmoker\u001B[39m\u001B[33m'\u001B[39m] = data[\u001B[33m'\u001B[39m\u001B[33msmoker\u001B[39m\u001B[33m'\u001B[39m].map({\u001B[33m'\u001B[39m\u001B[33mno\u001B[39m\u001B[33m'\u001B[39m: \u001B[32m0\u001B[39m, \u001B[33m'\u001B[39m\u001B[33myes\u001B[39m\u001B[33m'\u001B[39m: \u001B[32m1\u001B[39m})\n\u001B[32m---> \u001B[39m\u001B[32m18\u001B[39m data = \u001B[43mpd\u001B[49m\u001B[43m.\u001B[49m\u001B[43mget_dummies\u001B[49m\u001B[43m(\u001B[49m\u001B[43mdata\u001B[49m\u001B[43m,\u001B[49m\u001B[43m \u001B[49m\u001B[43mcolumns\u001B[49m\u001B[43m=\u001B[49m\u001B[43m[\u001B[49m\u001B[33;43m'\u001B[39;49m\u001B[33;43mregion\u001B[39;49m\u001B[33;43m'\u001B[39;49m\u001B[43m]\u001B[49m\u001B[43m,\u001B[49m\u001B[43m \u001B[49m\u001B[43mdrop_first\u001B[49m\u001B[43m=\u001B[49m\u001B[38;5;28;43;01mTrue\u001B[39;49;00m\u001B[43m)\u001B[49m\n\u001B[32m     20\u001B[39m data.to_csv(output_path, index=\u001B[38;5;28;01mFalse\u001B[39;00m)\n\u001B[32m     21\u001B[39m \u001B[38;5;28mprint\u001B[39m(\u001B[33mf\u001B[39m\u001B[33m\"\u001B[39m\u001B[33mZapisano: \u001B[39m\u001B[38;5;132;01m{\u001B[39;00moutput_path\u001B[38;5;132;01m}\u001B[39;00m\u001B[33m\"\u001B[39m)\n",
      "\u001B[36mFile \u001B[39m\u001B[32m~\\PycharmProjects\\JupyterProject3\\.venv\\Lib\\site-packages\\pandas\\core\\reshape\\encoding.py:169\u001B[39m, in \u001B[36mget_dummies\u001B[39m\u001B[34m(data, prefix, prefix_sep, dummy_na, columns, sparse, drop_first, dtype)\u001B[39m\n\u001B[32m    167\u001B[39m     \u001B[38;5;28;01mraise\u001B[39;00m \u001B[38;5;167;01mTypeError\u001B[39;00m(\u001B[33m\"\u001B[39m\u001B[33mInput must be a list-like for parameter `columns`\u001B[39m\u001B[33m\"\u001B[39m)\n\u001B[32m    168\u001B[39m \u001B[38;5;28;01melse\u001B[39;00m:\n\u001B[32m--> \u001B[39m\u001B[32m169\u001B[39m     data_to_encode = \u001B[43mdata\u001B[49m\u001B[43m[\u001B[49m\u001B[43mcolumns\u001B[49m\u001B[43m]\u001B[49m\n\u001B[32m    171\u001B[39m \u001B[38;5;66;03m# validate prefixes and separator to avoid silently dropping cols\u001B[39;00m\n\u001B[32m    172\u001B[39m \u001B[38;5;28;01mdef\u001B[39;00m\u001B[38;5;250m \u001B[39m\u001B[34mcheck_len\u001B[39m(item, name: \u001B[38;5;28mstr\u001B[39m):\n",
      "\u001B[36mFile \u001B[39m\u001B[32m~\\PycharmProjects\\JupyterProject3\\.venv\\Lib\\site-packages\\pandas\\core\\frame.py:4108\u001B[39m, in \u001B[36mDataFrame.__getitem__\u001B[39m\u001B[34m(self, key)\u001B[39m\n\u001B[32m   4106\u001B[39m     \u001B[38;5;28;01mif\u001B[39;00m is_iterator(key):\n\u001B[32m   4107\u001B[39m         key = \u001B[38;5;28mlist\u001B[39m(key)\n\u001B[32m-> \u001B[39m\u001B[32m4108\u001B[39m     indexer = \u001B[38;5;28;43mself\u001B[39;49m\u001B[43m.\u001B[49m\u001B[43mcolumns\u001B[49m\u001B[43m.\u001B[49m\u001B[43m_get_indexer_strict\u001B[49m\u001B[43m(\u001B[49m\u001B[43mkey\u001B[49m\u001B[43m,\u001B[49m\u001B[43m \u001B[49m\u001B[33;43m\"\u001B[39;49m\u001B[33;43mcolumns\u001B[39;49m\u001B[33;43m\"\u001B[39;49m\u001B[43m)\u001B[49m[\u001B[32m1\u001B[39m]\n\u001B[32m   4110\u001B[39m \u001B[38;5;66;03m# take() does not accept boolean indexers\u001B[39;00m\n\u001B[32m   4111\u001B[39m \u001B[38;5;28;01mif\u001B[39;00m \u001B[38;5;28mgetattr\u001B[39m(indexer, \u001B[33m\"\u001B[39m\u001B[33mdtype\u001B[39m\u001B[33m\"\u001B[39m, \u001B[38;5;28;01mNone\u001B[39;00m) == \u001B[38;5;28mbool\u001B[39m:\n",
      "\u001B[36mFile \u001B[39m\u001B[32m~\\PycharmProjects\\JupyterProject3\\.venv\\Lib\\site-packages\\pandas\\core\\indexes\\base.py:6200\u001B[39m, in \u001B[36mIndex._get_indexer_strict\u001B[39m\u001B[34m(self, key, axis_name)\u001B[39m\n\u001B[32m   6197\u001B[39m \u001B[38;5;28;01melse\u001B[39;00m:\n\u001B[32m   6198\u001B[39m     keyarr, indexer, new_indexer = \u001B[38;5;28mself\u001B[39m._reindex_non_unique(keyarr)\n\u001B[32m-> \u001B[39m\u001B[32m6200\u001B[39m \u001B[38;5;28;43mself\u001B[39;49m\u001B[43m.\u001B[49m\u001B[43m_raise_if_missing\u001B[49m\u001B[43m(\u001B[49m\u001B[43mkeyarr\u001B[49m\u001B[43m,\u001B[49m\u001B[43m \u001B[49m\u001B[43mindexer\u001B[49m\u001B[43m,\u001B[49m\u001B[43m \u001B[49m\u001B[43maxis_name\u001B[49m\u001B[43m)\u001B[49m\n\u001B[32m   6202\u001B[39m keyarr = \u001B[38;5;28mself\u001B[39m.take(indexer)\n\u001B[32m   6203\u001B[39m \u001B[38;5;28;01mif\u001B[39;00m \u001B[38;5;28misinstance\u001B[39m(key, Index):\n\u001B[32m   6204\u001B[39m     \u001B[38;5;66;03m# GH 42790 - Preserve name from an Index\u001B[39;00m\n",
      "\u001B[36mFile \u001B[39m\u001B[32m~\\PycharmProjects\\JupyterProject3\\.venv\\Lib\\site-packages\\pandas\\core\\indexes\\base.py:6249\u001B[39m, in \u001B[36mIndex._raise_if_missing\u001B[39m\u001B[34m(self, key, indexer, axis_name)\u001B[39m\n\u001B[32m   6247\u001B[39m \u001B[38;5;28;01mif\u001B[39;00m nmissing:\n\u001B[32m   6248\u001B[39m     \u001B[38;5;28;01mif\u001B[39;00m nmissing == \u001B[38;5;28mlen\u001B[39m(indexer):\n\u001B[32m-> \u001B[39m\u001B[32m6249\u001B[39m         \u001B[38;5;28;01mraise\u001B[39;00m \u001B[38;5;167;01mKeyError\u001B[39;00m(\u001B[33mf\u001B[39m\u001B[33m\"\u001B[39m\u001B[33mNone of [\u001B[39m\u001B[38;5;132;01m{\u001B[39;00mkey\u001B[38;5;132;01m}\u001B[39;00m\u001B[33m] are in the [\u001B[39m\u001B[38;5;132;01m{\u001B[39;00maxis_name\u001B[38;5;132;01m}\u001B[39;00m\u001B[33m]\u001B[39m\u001B[33m\"\u001B[39m)\n\u001B[32m   6251\u001B[39m     not_found = \u001B[38;5;28mlist\u001B[39m(ensure_index(key)[missing_mask.nonzero()[\u001B[32m0\u001B[39m]].unique())\n\u001B[32m   6252\u001B[39m     \u001B[38;5;28;01mraise\u001B[39;00m \u001B[38;5;167;01mKeyError\u001B[39;00m(\u001B[33mf\u001B[39m\u001B[33m\"\u001B[39m\u001B[38;5;132;01m{\u001B[39;00mnot_found\u001B[38;5;132;01m}\u001B[39;00m\u001B[33m not in index\u001B[39m\u001B[33m\"\u001B[39m)\n",
      "\u001B[31mKeyError\u001B[39m: \"None of [Index(['region'], dtype='object')] are in the [columns]\""
     ]
    }
   ],
   "execution_count": 1
  },
  {
   "metadata": {},
   "cell_type": "markdown",
   "source": "### Wizualizacja zmiennych numerycznych",
   "id": "4398611eb2c14146"
  },
  {
   "metadata": {
    "ExecuteTime": {
     "end_time": "2025-10-26T10:45:39.574612Z",
     "start_time": "2025-10-26T10:45:39.564591Z"
    }
   },
   "cell_type": "code",
   "source": [
    "import pandas as pd\n",
    "import matplotlib.pyplot as plt\n",
    "import seaborn as sns\n",
    "\n",
    "df = pd.read_csv(\"data_converted/insurance_cleaned_knn_converted.csv\")\n",
    "df.head()"
   ],
   "id": "eacc5572cbfe6b8d",
   "outputs": [
    {
     "data": {
      "text/plain": [
       "    age  sex        bmi  children  smoker     charges  region_northwest  \\\n",
       "0  19.0    0  27.900000       0.0       1  16884.9240             False   \n",
       "1  18.0    1  33.770000       0.0       0   1725.5523             False   \n",
       "2  28.0    1  33.000000       3.0       0   4449.4620             False   \n",
       "3  33.0    1  32.046667       0.0       0  12406.0841              True   \n",
       "4  32.0    1  28.880000       0.0       0   3866.8552              True   \n",
       "\n",
       "   region_southeast  region_southwest  \n",
       "0             False              True  \n",
       "1              True             False  \n",
       "2              True             False  \n",
       "3             False             False  \n",
       "4             False             False  "
      ],
      "text/html": [
       "<div>\n",
       "<style scoped>\n",
       "    .dataframe tbody tr th:only-of-type {\n",
       "        vertical-align: middle;\n",
       "    }\n",
       "\n",
       "    .dataframe tbody tr th {\n",
       "        vertical-align: top;\n",
       "    }\n",
       "\n",
       "    .dataframe thead th {\n",
       "        text-align: right;\n",
       "    }\n",
       "</style>\n",
       "<table border=\"1\" class=\"dataframe\">\n",
       "  <thead>\n",
       "    <tr style=\"text-align: right;\">\n",
       "      <th></th>\n",
       "      <th>age</th>\n",
       "      <th>sex</th>\n",
       "      <th>bmi</th>\n",
       "      <th>children</th>\n",
       "      <th>smoker</th>\n",
       "      <th>charges</th>\n",
       "      <th>region_northwest</th>\n",
       "      <th>region_southeast</th>\n",
       "      <th>region_southwest</th>\n",
       "    </tr>\n",
       "  </thead>\n",
       "  <tbody>\n",
       "    <tr>\n",
       "      <th>0</th>\n",
       "      <td>19.0</td>\n",
       "      <td>0</td>\n",
       "      <td>27.900000</td>\n",
       "      <td>0.0</td>\n",
       "      <td>1</td>\n",
       "      <td>16884.9240</td>\n",
       "      <td>False</td>\n",
       "      <td>False</td>\n",
       "      <td>True</td>\n",
       "    </tr>\n",
       "    <tr>\n",
       "      <th>1</th>\n",
       "      <td>18.0</td>\n",
       "      <td>1</td>\n",
       "      <td>33.770000</td>\n",
       "      <td>0.0</td>\n",
       "      <td>0</td>\n",
       "      <td>1725.5523</td>\n",
       "      <td>False</td>\n",
       "      <td>True</td>\n",
       "      <td>False</td>\n",
       "    </tr>\n",
       "    <tr>\n",
       "      <th>2</th>\n",
       "      <td>28.0</td>\n",
       "      <td>1</td>\n",
       "      <td>33.000000</td>\n",
       "      <td>3.0</td>\n",
       "      <td>0</td>\n",
       "      <td>4449.4620</td>\n",
       "      <td>False</td>\n",
       "      <td>True</td>\n",
       "      <td>False</td>\n",
       "    </tr>\n",
       "    <tr>\n",
       "      <th>3</th>\n",
       "      <td>33.0</td>\n",
       "      <td>1</td>\n",
       "      <td>32.046667</td>\n",
       "      <td>0.0</td>\n",
       "      <td>0</td>\n",
       "      <td>12406.0841</td>\n",
       "      <td>True</td>\n",
       "      <td>False</td>\n",
       "      <td>False</td>\n",
       "    </tr>\n",
       "    <tr>\n",
       "      <th>4</th>\n",
       "      <td>32.0</td>\n",
       "      <td>1</td>\n",
       "      <td>28.880000</td>\n",
       "      <td>0.0</td>\n",
       "      <td>0</td>\n",
       "      <td>3866.8552</td>\n",
       "      <td>True</td>\n",
       "      <td>False</td>\n",
       "      <td>False</td>\n",
       "    </tr>\n",
       "  </tbody>\n",
       "</table>\n",
       "</div>"
      ]
     },
     "execution_count": 4,
     "metadata": {},
     "output_type": "execute_result"
    }
   ],
   "execution_count": 4
  },
  {
   "metadata": {
    "ExecuteTime": {
     "end_time": "2025-10-26T10:45:41.398743Z",
     "start_time": "2025-10-26T10:45:40.486012Z"
    }
   },
   "cell_type": "code",
   "source": [
    "num_cols = ['age', 'bmi', 'children', 'charges']\n",
    "\n",
    "fig, axes = plt.subplots(2, len(num_cols), figsize=(16, 8))\n",
    "\n",
    "for i, col in enumerate(num_cols):\n",
    "    sns.boxplot(df[col], ax=axes[0, i], color=\"skyblue\")\n",
    "    axes[0, i].set_title(f\"Boxplot: {col}\")\n",
    "\n",
    "    sns.histplot(df[col], ax=axes[1, i], bins=30, kde=True, color=\"orange\")\n",
    "    axes[1, i].set_title(f\"Histogram: {col}\")\n",
    "\n",
    "plt.tight_layout()\n",
    "plt.show()"
   ],
   "id": "7445a0852761f787",
   "outputs": [
    {
     "data": {
      "text/plain": [
       "<Figure size 1600x800 with 8 Axes>"
      ],
      "image/png": "[encoded data removed]"
     },
     "metadata": {},
     "output_type": "display_data"
    }
   ],
   "execution_count": 5
  },
  {
   "metadata": {},
   "cell_type": "markdown",
   "source": "### Identyfikacja outlierów metodą IQR",
   "id": "dfc6f24ccd6fa62d"
  },
  {
   "metadata": {},
   "cell_type": "markdown",
   "source": [
    "Q1 – 25% danych jest mniejszych lub równych tej wartości\n",
    "\n",
    "Q3 – 75% danych jest mniejszych lub równych tej wartości\n",
    "\n",
    "IQR jest miarą rozproszenia środkowej części danych i jest używany do wykrywania outlierów.\n",
    "\n",
    "Q1−1.5∗IQR lub powyżej lub Q3+1.5∗IQR to potencjalny outlier."
   ],
   "id": "82b1566f65d92e9"
  },
  {
   "metadata": {
    "ExecuteTime": {
     "end_time": "2025-10-26T10:45:59.902392Z",
     "start_time": "2025-10-26T10:45:59.891499Z"
    }
   },
   "cell_type": "code",
   "outputs": [
    {
     "name": "stdout",
     "output_type": "stream",
     "text": [
      "\n",
      "age: 0 wartości odstających\n",
      "Zakres dopuszczalny: 0.00 – 84.50\n",
      "\n",
      "bmi: 13 wartości odstających\n",
      "Zakres dopuszczalny: 14.43 – 46.38\n",
      "\n",
      "children: 0 wartości odstających\n",
      "Zakres dopuszczalny: 0.00 – 5.00\n",
      "\n",
      "charges: 139 wartości odstających\n",
      "Zakres dopuszczalny: 0.00 – 32328.13\n"
     ]
    }
   ],
   "execution_count": 6,
   "source": [
    "def detect_outliers_iqr(data, column):\n",
    "    Q1 = data[column].quantile(0.25)\n",
    "    Q3 = data[column].quantile(0.75)\n",
    "    IQR = Q3 - Q1\n",
    "    lower_bound = Q1 - 1.5 * IQR\n",
    "    upper_bound = Q3 + 1.5 * IQR\n",
    "\n",
    "    if lower_bound < 0:\n",
    "        lower_bound = 0\n",
    "\n",
    "    outliers = data[(data[column] < lower_bound) | (data[column] > upper_bound)]\n",
    "    return outliers, lower_bound, upper_bound\n",
    "\n",
    "for col in num_cols:\n",
    "    outliers, low, high = detect_outliers_iqr(df, col)\n",
    "    print(f\"\\n{col}: {len(outliers)} wartości odstających\")\n",
    "    print(f\"Zakres dopuszczalny: {low:.2f} – {high:.2f}\")"
   ],
   "id": "f8535d4e61dbca4d"
  },
  {
   "metadata": {
    "ExecuteTime": {
     "end_time": "2025-10-26T10:46:10.227689Z",
     "start_time": "2025-10-26T10:46:10.155474Z"
    }
   },
   "cell_type": "code",
   "source": [
    "sns.boxplot(df['bmi'], color='lightgreen')\n",
    "plt.title(\"BMI przed usunięciem outlierów\")\n",
    "plt.show()"
   ],
   "id": "35bccbcad7d2b16a",
   "outputs": [
    {
     "data": {
      "text/plain": [
       "<Figure size 640x480 with 1 Axes>"
      ],
      "image/png": "[encoded data removed]"
     },
     "metadata": {},
     "output_type": "display_data"
    }
   ],
   "execution_count": 7
  },
  {
   "metadata": {
    "ExecuteTime": {
     "end_time": "2025-10-26T10:46:18.115961Z",
     "start_time": "2025-10-26T10:46:18.044211Z"
    }
   },
   "cell_type": "code",
   "outputs": [
    {
     "data": {
      "text/plain": [
       "<Figure size 640x480 with 1 Axes>"
      ],
      "image/png": "[encoded data removed]"
     },
     "metadata": {},
     "output_type": "display_data"
    }
   ],
   "execution_count": 8,
   "source": [
    "sns.boxplot(df['charges'], color='lightgreen')\n",
    "plt.title(\"Charges przed usunięciem outlierów\")\n",
    "plt.show()"
   ],
   "id": "571fb043923b731b"
  },
  {
   "metadata": {
    "ExecuteTime": {
     "end_time": "2025-10-26T10:51:18.159403Z",
     "start_time": "2025-10-26T10:51:18.144441Z"
    }
   },
   "cell_type": "code",
   "source": [
    "df_cleaned_files = {}\n",
    "\n",
    "converted_folder = \"data_converted\"\n",
    "\n",
    "df_cleaned_files = {}\n",
    "\n",
    "for file in os.listdir(converted_folder):\n",
    "    if file.endswith(\"_converted.csv\"):\n",
    "        file_path = os.path.join(converted_folder, file)\n",
    "        df = pd.read_csv(file_path)\n",
    "\n",
    "        before = df.shape[0]\n",
    "        df_cleaned = df[(df['bmi'] >= 15) & (df['bmi'] <= 50)]\n",
    "        after = df_cleaned.shape[0]\n",
    "\n",
    "        print(f\"{file}: Usunięto {before - after} wierszy ({(before - after)/before:.2%}) z powodu BMI outlierów.\")\n",
    "\n",
    "        df_cleaned_files[file.replace(\"_converted.csv\", \"\")] = df_cleaned\n",
    "\n",
    "print(\"Wszystkie pliki zostały oczyszczone z outlierów BMI.\")"
   ],
   "id": "f22a40a733b546af",
   "outputs": [
    {
     "name": "stdout",
     "output_type": "stream",
     "text": [
      "insurance_cleaned_knn_converted.csv: Usunięto 3 wierszy (0.22%) z powodu BMI outlierów.\n",
      "insurance_cleaned_mean_median_converted.csv: Usunięto 3 wierszy (0.22%) z powodu BMI outlierów.\n",
      "insurance_cleaned_regression_converted.csv: Usunięto 3 wierszy (0.22%) z powodu BMI outlierów.\n",
      "insurance_cleaned_sklearn_impute_converted.csv: Usunięto 3 wierszy (0.22%) z powodu BMI outlierów.\n",
      "Wszystkie pliki zostały oczyszczone z outlierów BMI.\n"
     ]
    }
   ],
   "execution_count": 9
  },
  {
   "metadata": {},
   "cell_type": "markdown",
   "source": [
    "### Wnioski\n",
    "\n",
    "- Oficjalne zakresy BMI (WHO — World Health Organization) - <16 to wygłodzenie, powyzej 50 to ekstremalna otyłość. Usunęliśmy wartości które były skrajnymi wynikami\n",
    "\n",
    "- nie usuwaliśmy outlierów w kolumnie 'charges', ponieważ koszty ubezpieczenia mogą być naturalnie wysokie dla niektórych grup (np. palacze, starsi ludzie)"
   ],
   "id": "3f1b363033b00839"
  },
  {
   "metadata": {},
   "cell_type": "markdown",
   "source": "### Analiza cech",
   "id": "28d7ae69b0331b90"
  },
  {
   "metadata": {},
   "cell_type": "markdown",
   "source": [
    "| Cecha      | Typ                  | Opis                                               | Wnioski                                     |\n",
    "|------------|---------------------|---------------------------------------------------|---------------------------------------------|\n",
    "| age        | numeryczna (ciągła) | Wiek ubezpieczonego                                | Skalować                                    |\n",
    "| sex        | kategoryczna binarna| Płeć                                              |  0/1, zostawić                    |\n",
    "| bmi        | numeryczna (ciągła) | Wskaźnik masy ciała                               | Skalować                                    |\n",
    "| children   | numeryczna dyskretna| Liczba dzieci - Liczby te są niewielkie i nie mają szerokiego rozrzutu | Można skalować                              |\n",
    "| smoker     | kategoryczna binarna| Czy osoba pali                                    | Zostawić, kluczowa cecha                    |\n",
    "| charges    | numeryczna (cel)    | Koszty ubezpieczenia                               | Zmienna docelowa |\n",
    "| region     | kategoryczna (dummy)| Region zamieszkania                               | Zostawić, może pomóc w modelu               |\n"
   ],
   "id": "5e44dc17c54fe519"
  },
  {
   "metadata": {},
   "cell_type": "markdown",
   "source": "### Skalowanie cech numerycznych",
   "id": "a84ef4fa3e18c753"
  },
  {
   "metadata": {
    "ExecuteTime": {
     "end_time": "2025-10-26T11:18:18.392806Z",
     "start_time": "2025-10-26T11:18:18.387960Z"
    }
   },
   "cell_type": "code",
   "source": [
    "output_folder = \"data_scaled\"\n",
    "os.makedirs(output_folder, exist_ok=True)\n",
    "\n",
    "num_cols = ['age', 'bmi', 'children']\n",
    "\n",
    "def min_max_scale(series):\n",
    "    min_val = series.min() # Znajdź najmniejszą wartość w kolumnie\n",
    "    max_val = series.max() # Znajdź największą wartość w kolumnie\n",
    "    return (series - min_val) / (max_val - min_val)\n",
    "\n",
    "def standard_scale(series):\n",
    "    mean_val = series.mean() # Średnia wszystkich wartości\n",
    "    std_val = series.std(ddof=0) # Odchylenie standardowe\n",
    "    return (series - mean_val) / std_val"
   ],
   "id": "5d62548706009ab6",
   "outputs": [],
   "execution_count": 19
  },
  {
   "metadata": {},
   "cell_type": "markdown",
   "source": [
    "Skalowanie danych – Min-Max i Standaryzacja (Z-score)\n",
    "\n",
    "W analizie danych i uczeniu maszynowym często przekształca się wartości cech liczbowych, aby znajdowały się w określonym zakresie lub miały określone właściwości. Takie przekształcenia nazywamy normalizacją lub skalowaniem danych.\n",
    "\n",
    "1. Normalizacja Min-Max\n",
    "\n",
    "Dopasowanie wartości cechy do zadanego zakresu, najczęściej [0,1].\n",
    "\n",
    "$X_{\\text{scaled}} = \\frac{X - X_{\\text{min}}}{X_{\\text{max}} - X_{\\text{min}}}$\n",
    "\n",
    "2 Standaryzacja (Z-score)\n",
    "\n",
    "Przekształca dane tak, aby miały średnią = 0 i odchylenie standardowe = 1.\n",
    "\n",
    "$X_{\\text{scaled}} = \\frac{X - \\mu}{\\sigma}$\n",
    "\n",
    "\n",
    "\n"
   ],
   "id": "6a116246d17eeb1e"
  },
  {
   "metadata": {
    "ExecuteTime": {
     "end_time": "2025-10-26T11:20:35.116127Z",
     "start_time": "2025-10-26T11:20:35.060611Z"
    }
   },
   "cell_type": "code",
   "source": [
    "for name, df in df_cleaned_files.items():\n",
    "    df_minmax = df.copy()\n",
    "    df_standard = df.copy()\n",
    "\n",
    "    for col in num_cols:\n",
    "        df_minmax[col] = min_max_scale(df_minmax[col])\n",
    "\n",
    "    for col in num_cols:\n",
    "        df_standard[col] = standard_scale(df_standard[col])\n",
    "\n",
    "    minmax_path = os.path.join(output_folder, f\"{name}_minmax_scaled.csv\")\n",
    "    standard_path = os.path.join(output_folder, f\"{name}_standard_scaled.csv\")\n",
    "\n",
    "    df_minmax.to_csv(minmax_path, index=False)\n",
    "    df_standard.to_csv(standard_path, index=False)\n",
    "\n",
    "    print(f\"Zapisano: {minmax_path}\")\n",
    "    print(f\"Zapisano: {standard_path}\")\n",
    "\n",
    "print(\"\\nWszystkie zbiory zostały przeskalowane i zapisane do folderu data_scaled/\")"
   ],
   "id": "dc31452c34ab9661",
   "outputs": [
    {
     "name": "stdout",
     "output_type": "stream",
     "text": [
      "Zapisano: data_scaled\\insurance_cleaned_knn_minmax_scaled.csv\n",
      "Zapisano: data_scaled\\insurance_cleaned_knn_standard_scaled.csv\n",
      "Zapisano: data_scaled\\insurance_cleaned_mean_median_minmax_scaled.csv\n",
      "Zapisano: data_scaled\\insurance_cleaned_mean_median_standard_scaled.csv\n",
      "Zapisano: data_scaled\\insurance_cleaned_regression_minmax_scaled.csv\n",
      "Zapisano: data_scaled\\insurance_cleaned_regression_standard_scaled.csv\n",
      "Zapisano: data_scaled\\insurance_cleaned_sklearn_impute_minmax_scaled.csv\n",
      "Zapisano: data_scaled\\insurance_cleaned_sklearn_impute_standard_scaled.csv\n",
      "\n",
      "Wszystkie zbiory zostały przeskalowane i zapisane do folderu data_scaled/\n"
     ]
    }
   ],
   "execution_count": 22
  },
  {
   "metadata": {
    "ExecuteTime": {
     "end_time": "2025-10-26T11:11:04.584057Z",
     "start_time": "2025-10-26T11:11:04.568489Z"
    }
   },
   "cell_type": "code",
   "source": [
    "import pandas as pd\n",
    "import os\n",
    "\n",
    "original_path = \"data_converted/insurance_cleaned_knn_converted.csv\"\n",
    "minmax_path = \"data_scaled/insurance_cleaned_knn_minmax_scaled.csv\"\n",
    "standard_path = \"data_scaled/insurance_cleaned_knn_standard_scaled.csv\"\n",
    "\n",
    "df_original = pd.read_csv(original_path)\n",
    "df_minmax = pd.read_csv(minmax_path)\n",
    "df_standard = pd.read_csv(standard_path)\n",
    "\n",
    "num_cols = ['age', 'bmi', 'children']\n",
    "\n",
    "print(\"Oryginalne dane:\")\n",
    "df_original[num_cols].head(10)\n"
   ],
   "id": "5d47f260a7e65737",
   "outputs": [
    {
     "name": "stdout",
     "output_type": "stream",
     "text": [
      "Oryginalne dane:\n"
     ]
    },
    {
     "data": {
      "text/plain": [
       "    age        bmi  children\n",
       "0  19.0  27.900000       0.0\n",
       "1  18.0  33.770000       0.0\n",
       "2  28.0  33.000000       3.0\n",
       "3  33.0  32.046667       0.0\n",
       "4  32.0  28.880000       0.0\n",
       "5  31.0  36.300000       0.0\n",
       "6  46.0  33.440000       1.0\n",
       "7  37.0  27.740000       3.0\n",
       "8  37.0  29.830000       2.0\n",
       "9  60.0  25.840000       0.0"
      ],
      "text/html": [
       "<div>\n",
       "<style scoped>\n",
       "    .dataframe tbody tr th:only-of-type {\n",
       "        vertical-align: middle;\n",
       "    }\n",
       "\n",
       "    .dataframe tbody tr th {\n",
       "        vertical-align: top;\n",
       "    }\n",
       "\n",
       "    .dataframe thead th {\n",
       "        text-align: right;\n",
       "    }\n",
       "</style>\n",
       "<table border=\"1\" class=\"dataframe\">\n",
       "  <thead>\n",
       "    <tr style=\"text-align: right;\">\n",
       "      <th></th>\n",
       "      <th>age</th>\n",
       "      <th>bmi</th>\n",
       "      <th>children</th>\n",
       "    </tr>\n",
       "  </thead>\n",
       "  <tbody>\n",
       "    <tr>\n",
       "      <th>0</th>\n",
       "      <td>19.0</td>\n",
       "      <td>27.900000</td>\n",
       "      <td>0.0</td>\n",
       "    </tr>\n",
       "    <tr>\n",
       "      <th>1</th>\n",
       "      <td>18.0</td>\n",
       "      <td>33.770000</td>\n",
       "      <td>0.0</td>\n",
       "    </tr>\n",
       "    <tr>\n",
       "      <th>2</th>\n",
       "      <td>28.0</td>\n",
       "      <td>33.000000</td>\n",
       "      <td>3.0</td>\n",
       "    </tr>\n",
       "    <tr>\n",
       "      <th>3</th>\n",
       "      <td>33.0</td>\n",
       "      <td>32.046667</td>\n",
       "      <td>0.0</td>\n",
       "    </tr>\n",
       "    <tr>\n",
       "      <th>4</th>\n",
       "      <td>32.0</td>\n",
       "      <td>28.880000</td>\n",
       "      <td>0.0</td>\n",
       "    </tr>\n",
       "    <tr>\n",
       "      <th>5</th>\n",
       "      <td>31.0</td>\n",
       "      <td>36.300000</td>\n",
       "      <td>0.0</td>\n",
       "    </tr>\n",
       "    <tr>\n",
       "      <th>6</th>\n",
       "      <td>46.0</td>\n",
       "      <td>33.440000</td>\n",
       "      <td>1.0</td>\n",
       "    </tr>\n",
       "    <tr>\n",
       "      <th>7</th>\n",
       "      <td>37.0</td>\n",
       "      <td>27.740000</td>\n",
       "      <td>3.0</td>\n",
       "    </tr>\n",
       "    <tr>\n",
       "      <th>8</th>\n",
       "      <td>37.0</td>\n",
       "      <td>29.830000</td>\n",
       "      <td>2.0</td>\n",
       "    </tr>\n",
       "    <tr>\n",
       "      <th>9</th>\n",
       "      <td>60.0</td>\n",
       "      <td>25.840000</td>\n",
       "      <td>0.0</td>\n",
       "    </tr>\n",
       "  </tbody>\n",
       "</table>\n",
       "</div>"
      ]
     },
     "execution_count": 18,
     "metadata": {},
     "output_type": "execute_result"
    }
   ],
   "execution_count": 18
  },
  {
   "metadata": {
    "ExecuteTime": {
     "end_time": "2025-10-26T11:10:32.697105Z",
     "start_time": "2025-10-26T11:10:32.689378Z"
    }
   },
   "cell_type": "code",
   "source": [
    "print(\"\\nDane po skalowaniu Min-Max:\")\n",
    "df_minmax[num_cols].head(10)\n"
   ],
   "id": "7163c4a8e245aa27",
   "outputs": [
    {
     "name": "stdout",
     "output_type": "stream",
     "text": [
      "\n",
      "Dane po skalowaniu Min-Max:\n"
     ]
    },
    {
     "data": {
      "text/plain": [
       "        age       bmi  children\n",
       "0  0.021739  0.360725       0.0\n",
       "1  0.000000  0.538066       0.0\n",
       "2  0.217391  0.514804       0.6\n",
       "3  0.326087  0.486002       0.0\n",
       "4  0.304348  0.390332       0.0\n",
       "5  0.282609  0.614502       0.0\n",
       "6  0.608696  0.528097       0.2\n",
       "7  0.413043  0.355891       0.6\n",
       "8  0.413043  0.419033       0.4\n",
       "9  0.913043  0.298489       0.0"
      ],
      "text/html": [
       "<div>\n",
       "<style scoped>\n",
       "    .dataframe tbody tr th:only-of-type {\n",
       "        vertical-align: middle;\n",
       "    }\n",
       "\n",
       "    .dataframe tbody tr th {\n",
       "        vertical-align: top;\n",
       "    }\n",
       "\n",
       "    .dataframe thead th {\n",
       "        text-align: right;\n",
       "    }\n",
       "</style>\n",
       "<table border=\"1\" class=\"dataframe\">\n",
       "  <thead>\n",
       "    <tr style=\"text-align: right;\">\n",
       "      <th></th>\n",
       "      <th>age</th>\n",
       "      <th>bmi</th>\n",
       "      <th>children</th>\n",
       "    </tr>\n",
       "  </thead>\n",
       "  <tbody>\n",
       "    <tr>\n",
       "      <th>0</th>\n",
       "      <td>0.021739</td>\n",
       "      <td>0.360725</td>\n",
       "      <td>0.0</td>\n",
       "    </tr>\n",
       "    <tr>\n",
       "      <th>1</th>\n",
       "      <td>0.000000</td>\n",
       "      <td>0.538066</td>\n",
       "      <td>0.0</td>\n",
       "    </tr>\n",
       "    <tr>\n",
       "      <th>2</th>\n",
       "      <td>0.217391</td>\n",
       "      <td>0.514804</td>\n",
       "      <td>0.6</td>\n",
       "    </tr>\n",
       "    <tr>\n",
       "      <th>3</th>\n",
       "      <td>0.326087</td>\n",
       "      <td>0.486002</td>\n",
       "      <td>0.0</td>\n",
       "    </tr>\n",
       "    <tr>\n",
       "      <th>4</th>\n",
       "      <td>0.304348</td>\n",
       "      <td>0.390332</td>\n",
       "      <td>0.0</td>\n",
       "    </tr>\n",
       "    <tr>\n",
       "      <th>5</th>\n",
       "      <td>0.282609</td>\n",
       "      <td>0.614502</td>\n",
       "      <td>0.0</td>\n",
       "    </tr>\n",
       "    <tr>\n",
       "      <th>6</th>\n",
       "      <td>0.608696</td>\n",
       "      <td>0.528097</td>\n",
       "      <td>0.2</td>\n",
       "    </tr>\n",
       "    <tr>\n",
       "      <th>7</th>\n",
       "      <td>0.413043</td>\n",
       "      <td>0.355891</td>\n",
       "      <td>0.6</td>\n",
       "    </tr>\n",
       "    <tr>\n",
       "      <th>8</th>\n",
       "      <td>0.413043</td>\n",
       "      <td>0.419033</td>\n",
       "      <td>0.4</td>\n",
       "    </tr>\n",
       "    <tr>\n",
       "      <th>9</th>\n",
       "      <td>0.913043</td>\n",
       "      <td>0.298489</td>\n",
       "      <td>0.0</td>\n",
       "    </tr>\n",
       "  </tbody>\n",
       "</table>\n",
       "</div>"
      ]
     },
     "execution_count": 16,
     "metadata": {},
     "output_type": "execute_result"
    }
   ],
   "execution_count": 16
  },
  {
   "metadata": {
    "ExecuteTime": {
     "end_time": "2025-10-26T11:10:38.609488Z",
     "start_time": "2025-10-26T11:10:38.602502Z"
    }
   },
   "cell_type": "code",
   "source": [
    "print(\"\\nDane po skalowaniu Standard (Z-score):\")\n",
    "(df_standard[num_cols].head(10))"
   ],
   "id": "54fe58807d44661e",
   "outputs": [
    {
     "name": "stdout",
     "output_type": "stream",
     "text": [
      "\n",
      "Dane po skalowaniu Standard (Z-score):\n"
     ]
    },
    {
     "data": {
      "text/plain": [
       "        age       bmi  children\n",
       "0 -1.466365 -0.456970 -0.921845\n",
       "1 -1.539772  0.542277 -0.921845\n",
       "2 -0.805700  0.411200  1.528049\n",
       "3 -0.438664  0.248915 -0.921845\n",
       "4 -0.512071 -0.290145 -0.921845\n",
       "5 -0.585478  0.972957 -0.921845\n",
       "6  0.515631  0.486101 -0.105214\n",
       "7 -0.145034 -0.484206  1.528049\n",
       "8 -0.145034 -0.128427  0.711417\n",
       "9  1.543333 -0.807642 -0.921845"
      ],
      "text/html": [
       "<div>\n",
       "<style scoped>\n",
       "    .dataframe tbody tr th:only-of-type {\n",
       "        vertical-align: middle;\n",
       "    }\n",
       "\n",
       "    .dataframe tbody tr th {\n",
       "        vertical-align: top;\n",
       "    }\n",
       "\n",
       "    .dataframe thead th {\n",
       "        text-align: right;\n",
       "    }\n",
       "</style>\n",
       "<table border=\"1\" class=\"dataframe\">\n",
       "  <thead>\n",
       "    <tr style=\"text-align: right;\">\n",
       "      <th></th>\n",
       "      <th>age</th>\n",
       "      <th>bmi</th>\n",
       "      <th>children</th>\n",
       "    </tr>\n",
       "  </thead>\n",
       "  <tbody>\n",
       "    <tr>\n",
       "      <th>0</th>\n",
       "      <td>-1.466365</td>\n",
       "      <td>-0.456970</td>\n",
       "      <td>-0.921845</td>\n",
       "    </tr>\n",
       "    <tr>\n",
       "      <th>1</th>\n",
       "      <td>-1.539772</td>\n",
       "      <td>0.542277</td>\n",
       "      <td>-0.921845</td>\n",
       "    </tr>\n",
       "    <tr>\n",
       "      <th>2</th>\n",
       "      <td>-0.805700</td>\n",
       "      <td>0.411200</td>\n",
       "      <td>1.528049</td>\n",
       "    </tr>\n",
       "    <tr>\n",
       "      <th>3</th>\n",
       "      <td>-0.438664</td>\n",
       "      <td>0.248915</td>\n",
       "      <td>-0.921845</td>\n",
       "    </tr>\n",
       "    <tr>\n",
       "      <th>4</th>\n",
       "      <td>-0.512071</td>\n",
       "      <td>-0.290145</td>\n",
       "      <td>-0.921845</td>\n",
       "    </tr>\n",
       "    <tr>\n",
       "      <th>5</th>\n",
       "      <td>-0.585478</td>\n",
       "      <td>0.972957</td>\n",
       "      <td>-0.921845</td>\n",
       "    </tr>\n",
       "    <tr>\n",
       "      <th>6</th>\n",
       "      <td>0.515631</td>\n",
       "      <td>0.486101</td>\n",
       "      <td>-0.105214</td>\n",
       "    </tr>\n",
       "    <tr>\n",
       "      <th>7</th>\n",
       "      <td>-0.145034</td>\n",
       "      <td>-0.484206</td>\n",
       "      <td>1.528049</td>\n",
       "    </tr>\n",
       "    <tr>\n",
       "      <th>8</th>\n",
       "      <td>-0.145034</td>\n",
       "      <td>-0.128427</td>\n",
       "      <td>0.711417</td>\n",
       "    </tr>\n",
       "    <tr>\n",
       "      <th>9</th>\n",
       "      <td>1.543333</td>\n",
       "      <td>-0.807642</td>\n",
       "      <td>-0.921845</td>\n",
       "    </tr>\n",
       "  </tbody>\n",
       "</table>\n",
       "</div>"
      ]
     },
     "execution_count": 17,
     "metadata": {},
     "output_type": "execute_result"
    }
   ],
   "execution_count": 17
  },
  {
   "metadata": {},
   "cell_type": "code",
   "outputs": [],
   "execution_count": null,
   "source": "",
   "id": "ba1a3e69401b3d12"
  }
 ],
 "metadata": {
  "kernelspec": {
   "display_name": "Python 3",
   "language": "python",
   "name": "python3"
  },
  "language_info": {
   "codemirror_mode": {
    "name": "ipython",
    "version": 2
   },
   "file_extension": ".py",
   "mimetype": "text/x-python",
   "name": "python",
   "nbconvert_exporter": "python",
   "pygments_lexer": "ipython2",
   "version": "2.7.6"
  }
 },
 "nbformat": 4,
 "nbformat_minor": 5
}
